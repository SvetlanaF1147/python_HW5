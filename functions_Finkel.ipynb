{
 "cells": [
  {
   "cell_type": "markdown",
   "metadata": {},
   "source": [
    "Вы работаете секретарем и вам постоянно приходят различные документы. Вы должны быть очень внимательны, чтобы не потерять ни один документ. Каталог документов хранится в следующем виде:"
   ]
  },
  {
   "cell_type": "code",
   "execution_count": 1,
   "metadata": {},
   "outputs": [],
   "source": [
    "documents = [\n",
    "    {'type': 'passport', 'number': '2207 876234', 'name': 'Василий Гупкин'},\n",
    "    {'type': 'invoice', 'number': '11-2', 'name': 'Геннадий Покемонов'},\n",
    "    {'type': 'insurance', 'number': '10006', 'name': 'Аристарх Павлов'}\n",
    "]"
   ]
  },
  {
   "cell_type": "markdown",
   "metadata": {},
   "source": [
    "Перечень полок, на которых находятся документы хранится в следующем виде:"
   ]
  },
  {
   "cell_type": "code",
   "execution_count": 2,
   "metadata": {},
   "outputs": [],
   "source": [
    "directories = {\n",
    "    '1': ['2207 876234', '11-2'],\n",
    "    '2': ['10006'],\n",
    "    '3': []\n",
    "}"
   ]
  },
  {
   "cell_type": "markdown",
   "metadata": {},
   "source": [
    "Необходимо реализовать пользовательские команды (внимание! это не название функций, которые должны быть выразительными, а команды, которые вводит пользователь, чтобы получить необходимый результат):\n",
    "  \n",
    "- p – people – команда, которая спросит номер документа и выведет имя человека, которому он принадлежит;  \n",
    "- s – shelf – команда, которая спросит номер документа и выведет номер полки, на которой он находится  \n",
    "*Правильно обработайте ситуации, когда пользователь будет вводить несуществующий документ*.\n",
    "- l – list – команда, которая выведет список всех документов в формате   \n",
    "**passport \"2207 876234\" \"Василий Гупкин\"**  \n",
    "- as – add shelf – команда, которая спросит номер новой полки и добавит ее в перечень. *Предусмотрите случай, когда пользователь добавляет полку, которая уже существует*.\n",
    "- d – delete – команда, которая спросит номер документа и удалит его из каталога и из перечня полок. *Предусмотрите сценарий, когда пользователь вводит несуществующий документ*;  \n",
    "- m – move – команда, которая спросит номер документа и целевую полку и переместит его с текущей полки на целевую. *Корректно обработайте кейсы, когда пользователь пытается переместить несуществующий документ или переместить документ на несуществующую полку*;  \n",
    "- a – add – команда, которая добавит новый документ в каталог и в перечень полок, спросив его номер, тип, имя владельца и номер полки, на котором он будет храниться. *Корректно обработайте ситуацию, когда пользователь будет пытаться добавить документ на несуществующую полку*."
   ]
  },
  {
   "cell_type": "code",
   "execution_count": 3,
   "metadata": {},
   "outputs": [],
   "source": [
    "#задание 1: p – people – команда, которая спросит номер документа и выведет имя человека, которому он принадлежит;\n",
    "\n",
    "def print_name():\n",
    "    input_number = input('Введите номер документа ')\n",
    "    for string in documents:\n",
    "        list_number = (string['number'])\n",
    "        if input_number == (string['number']):\n",
    "            print(string['name'])\n",
    "            return\n",
    "    else:\n",
    "        print('Неправильный ввод')\n",
    "        "
   ]
  },
  {
   "cell_type": "code",
   "execution_count": 4,
   "metadata": {},
   "outputs": [
    {
     "name": "stdout",
     "output_type": "stream",
     "text": [
      "Введите номер документа 11-2\n",
      "Геннадий Покемонов\n"
     ]
    }
   ],
   "source": [
    "print_name()"
   ]
  },
  {
   "cell_type": "code",
   "execution_count": 5,
   "metadata": {},
   "outputs": [],
   "source": [
    "# задание 2: s – shelf – команда, которая спросит номер документа и выведет номер полки, на которой он находится\n",
    "\n",
    "def print_shelf_number():\n",
    "    input_doc_num = input('Введите номер документа ')\n",
    "    for key, values in directories.items():\n",
    "        if input_doc_num in values:\n",
    "            print(key)\n",
    "            return\n",
    "    else:\n",
    "        print('Неправильный ввод')  "
   ]
  },
  {
   "cell_type": "code",
   "execution_count": 6,
   "metadata": {},
   "outputs": [
    {
     "name": "stdout",
     "output_type": "stream",
     "text": [
      "Введите номер документа 10006\n",
      "2\n"
     ]
    }
   ],
   "source": [
    "print_shelf_number()"
   ]
  },
  {
   "cell_type": "code",
   "execution_count": 7,
   "metadata": {},
   "outputs": [],
   "source": [
    "# задание 3: l – list – команда, которая выведет список всех документов в формате: passport \"2207 876234\" \"Василий Гупкин\"\n",
    "\n",
    "def print_list():\n",
    "    for string in documents:\n",
    "        #print(string['type'] + ' \"' + string['number'] + '\" \"' + string['name'] + '\"')\n",
    "        print(f'{string[\"type\"]} \"{string[\"number\"]}\" \"{string[\"name\"]}\"')\n",
    "    return"
   ]
  },
  {
   "cell_type": "code",
   "execution_count": 8,
   "metadata": {},
   "outputs": [
    {
     "name": "stdout",
     "output_type": "stream",
     "text": [
      "passport \"2207 876234\" \"Василий Гупкин\"\n",
      "invoice \"11-2\" \"Геннадий Покемонов\"\n",
      "insurance \"10006\" \"Аристарх Павлов\"\n"
     ]
    }
   ],
   "source": [
    "print_list()"
   ]
  },
  {
   "cell_type": "code",
   "execution_count": 9,
   "metadata": {},
   "outputs": [],
   "source": [
    "# задание 4: as – add shelf – команда, которая спросит номер новой полки и добавит ее в перечень. \n",
    "#Предусмотрите случай, когда пользователь добавляет полку, которая уже существует.\n",
    "def add_shelf():\n",
    "    input_shelf_num = input('Введите номер новой полки ')                \n",
    "    if input_shelf_num not in directories:\n",
    "        directories.setdefault(input_shelf_num, [])\n",
    "    else:\n",
    "        print('Такой номер полки уже существует')\n",
    "    return directories  \n"
   ]
  },
  {
   "cell_type": "code",
   "execution_count": 10,
   "metadata": {},
   "outputs": [
    {
     "name": "stdout",
     "output_type": "stream",
     "text": [
      "Введите номер новой полки 6\n"
     ]
    },
    {
     "data": {
      "text/plain": [
       "{'1': ['2207 876234', '11-2'], '2': ['10006'], '3': [], '6': []}"
      ]
     },
     "execution_count": 10,
     "metadata": {},
     "output_type": "execute_result"
    }
   ],
   "source": [
    "add_shelf()          "
   ]
  },
  {
   "cell_type": "code",
   "execution_count": 11,
   "metadata": {},
   "outputs": [],
   "source": [
    "# задание 5: d – delete – команда, которая спросит номер документа и удалит его из каталога и из перечня полок. \n",
    "#Предусмотрите сценарий, когда пользователь вводит несуществующий документ;\n",
    "\n",
    "def delite_doc():\n",
    "    input_doc_number = input('Введите номер документа ')\n",
    "    for string in documents:\n",
    "        #print(string)\n",
    "        list_number = (string['number'])\n",
    "        #print(list_number)\n",
    "        if input_doc_number == (string['number']):\n",
    "            string['number'] = None\n",
    "        \n",
    "    for values in directories.values():\n",
    "        #print(values)\n",
    "        if input_doc_number in values:\n",
    "            values.remove(input_doc_number)\n",
    "            return documents, directories\n",
    "    else:\n",
    "        print('Такого номера документа не существует')"
   ]
  },
  {
   "cell_type": "code",
   "execution_count": 12,
   "metadata": {},
   "outputs": [
    {
     "name": "stdout",
     "output_type": "stream",
     "text": [
      "Введите номер документа 11-2\n"
     ]
    },
    {
     "data": {
      "text/plain": [
       "([{'type': 'passport', 'number': '2207 876234', 'name': 'Василий Гупкин'},\n",
       "  {'type': 'invoice', 'number': None, 'name': 'Геннадий Покемонов'},\n",
       "  {'type': 'insurance', 'number': '10006', 'name': 'Аристарх Павлов'}],\n",
       " {'1': ['2207 876234'], '2': ['10006'], '3': [], '6': []})"
      ]
     },
     "execution_count": 12,
     "metadata": {},
     "output_type": "execute_result"
    }
   ],
   "source": [
    "delite_doc()"
   ]
  },
  {
   "cell_type": "code",
   "execution_count": 15,
   "metadata": {},
   "outputs": [],
   "source": [
    "# задание 6: m – move – команда, которая спросит номер документа и целевую полку и переместит его с текущей полки на целевую. \n",
    "# Корректно обработайте кейсы, когда пользователь пытается переместить \n",
    "#несуществующий документ или переместить документ на несуществующую полку;\n",
    "\n",
    "def move_number():\n",
    "    input_doc_numb = input('Введите номер документа ')\n",
    "    input_wish_shelf = input('Введите номер целевой полки ') \n",
    "    if input_wish_shelf not in directories:\n",
    "        print('нет полки')\n",
    "        return \n",
    "     \n",
    "    for key, value in directories.items(): \n",
    "        if input_doc_numb in value:\n",
    "            value.remove(input_doc_numb)\n",
    "            directories[input_wish_shelf].append(input_doc_numb)\n",
    "            return directories\n",
    "    else:\n",
    "        print('нет номера')"
   ]
  },
  {
   "cell_type": "code",
   "execution_count": 16,
   "metadata": {},
   "outputs": [
    {
     "name": "stdout",
     "output_type": "stream",
     "text": [
      "Введите номер документа 10006\n",
      "Введите номер целевой полки 6\n"
     ]
    },
    {
     "data": {
      "text/plain": [
       "{'1': ['2207 876234'], '2': [], '3': [], '6': ['10006']}"
      ]
     },
     "execution_count": 16,
     "metadata": {},
     "output_type": "execute_result"
    }
   ],
   "source": [
    "move_number()"
   ]
  },
  {
   "cell_type": "code",
   "execution_count": 17,
   "metadata": {},
   "outputs": [],
   "source": [
    "# задание 7: a – add – команда, которая добавит новый документ в каталог и в перечень полок, \n",
    "# спросив его номер, тип, имя владельца и номер полки, на котором он будет храниться. \n",
    "#Корректно обработайте ситуацию, когда пользователь будет пытаться добавить документ на несуществующую полку.\n",
    "\n",
    "def add_doc():\n",
    "    new_people = {}\n",
    "    input_new_doc_number = input('Введите номер нового документа ')\n",
    "    input_new_doc_type = input('Введите тип нового документа ')\n",
    "    input_new_doc_name = input('Введите имя владельца нового документа ')\n",
    "    input_new_doc_shelf = input('Введите номер полки, на которой будет храниться новый документ ')\n",
    "    if input_new_doc_shelf in directories:\n",
    "        new_people['type'] = input_new_doc_type\n",
    "        new_people['number'] = input_new_doc_number\n",
    "        new_people['name'] = input_new_doc_name\n",
    "        documents.append(new_people)\n",
    "        directories[input_new_doc_shelf].append(input_new_doc_number)\n",
    "        \n",
    "    else:\n",
    "        print('Такой полки не существует!')\n",
    "    return documents, directories"
   ]
  },
  {
   "cell_type": "code",
   "execution_count": 18,
   "metadata": {},
   "outputs": [
    {
     "name": "stdout",
     "output_type": "stream",
     "text": [
      "Введите номер нового документа 333\n",
      "Введите тип нового документа passport\n",
      "Введите имя владельца нового документа Утконос Девяткин\n",
      "Введите номер полки, на которой будет храниться новый документ 6\n"
     ]
    },
    {
     "data": {
      "text/plain": [
       "([{'type': 'passport', 'number': '2207 876234', 'name': 'Василий Гупкин'},\n",
       "  {'type': 'invoice', 'number': None, 'name': 'Геннадий Покемонов'},\n",
       "  {'type': 'insurance', 'number': '10006', 'name': 'Аристарх Павлов'},\n",
       "  {'type': 'passport', 'number': '333', 'name': 'Утконос Девяткин'}],\n",
       " {'1': ['2207 876234'], '2': [], '3': [], '6': ['10006', '333']})"
      ]
     },
     "execution_count": 18,
     "metadata": {},
     "output_type": "execute_result"
    }
   ],
   "source": [
    "add_doc()"
   ]
  },
  {
   "cell_type": "code",
   "execution_count": null,
   "metadata": {},
   "outputs": [],
   "source": []
  },
  {
   "cell_type": "code",
   "execution_count": 21,
   "metadata": {},
   "outputs": [],
   "source": [
    "#Итоговая программа:\n",
    "def menu ():\n",
    "    while True:\n",
    "        user_input = input('Введите команду: ')\n",
    "        if user_input == 'p':\n",
    "            print_name()\n",
    "        elif user_input == 's':\n",
    "            print_shelf_number()\n",
    "        elif user_input == 'l':\n",
    "            print_list()\n",
    "        elif user_input == 'as':\n",
    "            add_shelf()\n",
    "        elif user_input == 'd':\n",
    "            delite_doc()\n",
    "        elif user_input == 'm':\n",
    "            move_number()\n",
    "        elif user_input == 'a':\n",
    "            add_doc()\n",
    "        else:\n",
    "            print('Такой команды не существует')\n",
    "            break"
   ]
  },
  {
   "cell_type": "code",
   "execution_count": 22,
   "metadata": {},
   "outputs": [
    {
     "name": "stdout",
     "output_type": "stream",
     "text": [
      "Введите команду: m\n",
      "Введите номер документа 333\n",
      "Введите номер целевой полки 9\n",
      "нет полки\n",
      "Введите команду: y\n",
      "Такой команды не существует\n"
     ]
    }
   ],
   "source": [
    "menu ()"
   ]
  },
  {
   "cell_type": "code",
   "execution_count": null,
   "metadata": {},
   "outputs": [],
   "source": []
  }
 ],
 "metadata": {
  "kernelspec": {
   "display_name": "Python 3",
   "language": "python",
   "name": "python3"
  },
  "language_info": {
   "codemirror_mode": {
    "name": "ipython",
    "version": 3
   },
   "file_extension": ".py",
   "mimetype": "text/x-python",
   "name": "python",
   "nbconvert_exporter": "python",
   "pygments_lexer": "ipython3",
   "version": "3.7.6"
  }
 },
 "nbformat": 4,
 "nbformat_minor": 2
}
